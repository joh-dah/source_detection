{
 "cells": [
  {
   "cell_type": "code",
   "execution_count": 6,
   "metadata": {},
   "outputs": [],
   "source": [
    "import torch_geometric.datasets as datasets\n",
    "from pathlib import Path\n",
    "\n",
    "def get_dataset_from_name(name: str):\n",
    "    \"\"\"\n",
    "    Get dataset from name.\n",
    "    :param name: name of dataset\n",
    "    :return: dataset\n",
    "    \"\"\"\n",
    "    data_dir = Path(\"data\") / \"downloaded_raw_data\"\n",
    "\n",
    "    dataset_dict = {\n",
    "        \"karate\": datasets.KarateClub(),  # nodes: 34,  edges: 156,  avg(degree): 9.18, https://pytorch-geometric.readthedocs.io/en/latest/generated/torch_geometric.datasets.KarateClub.html#torch_geometric.datasets.KarateClub\n",
    "        \"airports\": datasets.Airports(\n",
    "            root=data_dir, name=\"Europe\"\n",
    "        ),  # nodes: 1190,  edges: 13599,  avg(degree): 22.86, https://pytorch-geometric.readthedocs.io/en/latest/generated/torch_geometric.datasets.Airports.html#torch_geometric.datasets.Airports\n",
    "        \"wiki\": datasets.AttributedGraphDataset(\n",
    "            root=data_dir, name=\"Wiki\"\n",
    "        ),  # nodes: 2405,  edges: 17981,  avg(degree): 13.74, https://pytorch-geometric.readthedocs.io/en/latest/generated/torch_geometric.datasets.AttributedGraphDataset.html#torch_geometric.datasets.AttributedGraphDataset\n",
    "        \"facebook\": datasets.AttributedGraphDataset(\n",
    "            root=data_dir, name=\"Facebook\"\n",
    "        ),  # nodes: 4039,  edges: 88234,  avg(degree): 43.69, https://pytorch-geometric.readthedocs.io/en/latest/generated/torch_geometric.datasets.AttributedGraphDataset.html#torch_geometric.datasets.AttributedGraphDataset\n",
    "        \"actor\": datasets.Actor(\n",
    "            root=data_dir / \"actor\"\n",
    "        ),  # nodes: 7600,  edges: 30019,  avg(degree): 07.90, https://pytorch-geometric.readthedocs.io/en/latest/generated/torch_geometric.datasets.Actor.html#torch_geometric.datasets.Actor\n",
    "        \"github\": datasets.GitHub(\n",
    "            root=data_dir / \"github\"\n",
    "        ),  # nodes: 37700, edges: 578006, avg(degree): 30.66, https://pytorch-geometric.readthedocs.io/en/latest/generated/torch_geometric.datasets.GitHub.html#torch_geometric.datasets.GitHub\n",
    "    }\n",
    "\n",
    "    if name.lower() not in dataset_dict:\n",
    "        raise ValueError(f\"Dataset {name} not found.\")\n",
    "    else:\n",
    "        return dataset_dict[name.lower()]"
   ]
  },
  {
   "cell_type": "code",
   "execution_count": 7,
   "metadata": {},
   "outputs": [],
   "source": [
    "import networkx as nx\n",
    "from torch_geometric.utils.convert import to_networkx\n",
    "import numpy as np\n",
    "import pandas as pd"
   ]
  },
  {
   "cell_type": "code",
   "execution_count": 25,
   "metadata": {},
   "outputs": [
    {
     "name": "stdout",
     "output_type": "stream",
     "text": [
      "Dataset: KarateClub()\n",
      "Dataset: KarateClub()\n",
      "Dataset: EuropeAirports()\n",
      "Dataset: Wiki()\n",
      "Dataset: Facebook()\n",
      "Dataset: Actor()\n"
     ]
    }
   ],
   "source": [
    "df = pd.DataFrame(columns=[\"Dataset\",\"Nodes\",\"Edges\",\"Density\",\"Avg. Degree\",\"Avg. Clustering Coefficient\",\"Avg. Shortest Path Length\",\"Diameter\",\"Avg. Degree Centrality\"])\n",
    "for dataset_name in [\"karate\",\"airports\",\"wiki\",\"facebook\",\"actor\",\"github\"]:\n",
    "    print(f\"Dataset: {dataset}\")\n",
    "    dataset = get_dataset_from_name(dataset_name)\n",
    "    for i in range(len(dataset)):\n",
    "        # transform to networkx graph\n",
    "        graph = to_networkx(\n",
    "            dataset[i], to_undirected=False, remove_self_loops=True\n",
    "        ).to_undirected()\n",
    "        # use biggest connected component\n",
    "        max_cc = max(nx.connected_components(graph), key=len)\n",
    "        graph = graph.subgraph(max_cc).copy()\n",
    "        # append metrics to dataframe\n",
    "        pd.concat([df,pd.DataFrame({\n",
    "            \"Dataset\":dataset_name,\n",
    "            \"Nodes\":graph.number_of_nodes(),\n",
    "            \"Edges\":graph.number_of_edges(),\n",
    "            \"Density\":nx.density(graph),\n",
    "            \"Avg. Degree\": graph.number_of_edges()/graph.number_of_nodes(),\n",
    "            \"Avg. Clustering Coefficient\":nx.average_clustering(graph),\n",
    "            \"Avg. Shortest Path Length\":nx.average_shortest_path_length(graph, method=\"unweighted\"),\n",
    "            \"Diameter\":nx.diameter(graph),\n",
    "            \"Avg. Degree Centrality\":np.mean(list(nx.degree_centrality(graph).values()))\n",
    "            }, index=[i])\n",
    "        ], ignore_index=True)\n",
    "        "
   ]
  }
 ],
 "metadata": {
  "kernelspec": {
   "display_name": "venv",
   "language": "python",
   "name": "python3"
  },
  "language_info": {
   "codemirror_mode": {
    "name": "ipython",
    "version": 3
   },
   "file_extension": ".py",
   "mimetype": "text/x-python",
   "name": "python",
   "nbconvert_exporter": "python",
   "pygments_lexer": "ipython3",
   "version": "3.9.0"
  },
  "orig_nbformat": 4
 },
 "nbformat": 4,
 "nbformat_minor": 2
}
